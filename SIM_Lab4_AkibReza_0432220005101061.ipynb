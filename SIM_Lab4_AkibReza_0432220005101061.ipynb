{
  "nbformat": 4,
  "nbformat_minor": 0,
  "metadata": {
    "colab": {
      "provenance": [],
      "authorship_tag": "ABX9TyMR+Wq4Tzf4/Berc2rz2xmf",
      "include_colab_link": true
    },
    "kernelspec": {
      "name": "python3",
      "display_name": "Python 3"
    },
    "language_info": {
      "name": "python"
    }
  },
  "cells": [
    {
      "cell_type": "markdown",
      "metadata": {
        "id": "view-in-github",
        "colab_type": "text"
      },
      "source": [
        "<a href=\"https://colab.research.google.com/github/AkibReza/CSE413_Simulation_and_Modeling/blob/main/SIM_Lab4_AkibReza_0432220005101061.ipynb\" target=\"_parent\"><img src=\"https://colab.research.google.com/assets/colab-badge.svg\" alt=\"Open In Colab\"/></a>"
      ]
    },
    {
      "cell_type": "code",
      "execution_count": 4,
      "metadata": {
        "colab": {
          "base_uri": "https://localhost:8080/"
        },
        "id": "HL3_b_3BohhT",
        "outputId": "f8e89dfd-4b55-46cd-c029-e313d25a9d13"
      },
      "outputs": [
        {
          "output_type": "stream",
          "name": "stdout",
          "text": [
            "R = 61, Radius = 6.1\n",
            "Number of points = 1600\n",
            "Estimated π = 3.115\n",
            "Range Used      Total Points    Points Inside    Estimated π    Error from math.pi\n",
            "------------  --------------  ---------------  -------------  --------------------\n",
            "-6.1 to 6.1             1600             1237       3.092500              0.049093\n",
            "-6.1 to 6.1             3200             2533       3.166250              0.024657\n",
            "-6.1 to 6.1             4800             3784       3.153333              0.011741\n",
            "-6.1 to 6.1             6400             5078       3.173750              0.032157\n",
            "-6.1 to 6.1             8000             6282       3.141000              0.000593\n"
          ]
        }
      ],
      "source": [
        "import random\n",
        "import numpy as np\n",
        "import math\n",
        "from tabulate import tabulate\n",
        "\n",
        "\n",
        "# Step 1: Parameters from ID and name\n",
        "\n",
        "R = 61 # last two digits of 04322000510161\n",
        "radius = R / 10           # circle radius\n",
        "\n",
        "\n",
        "letter_count = 8  # Full Name: AKIB REZA\n",
        "num_points = 200 * letter_count\n",
        "\n",
        "# Step 2: Monte Carlo simulation\n",
        "def estimate_pi(num_points, radius):\n",
        "    inside = 0\n",
        "    for _ in range(num_points):\n",
        "        x = random.uniform(0, radius)\n",
        "        y = random.uniform(0, radius)\n",
        "        if x*x + y*y <= radius*radius:\n",
        "            inside += 1\n",
        "    # Multiply by 4 because we used only 1st quadrant\n",
        "    pi_estimate = 4 * inside / num_points\n",
        "    return pi_estimate\n",
        "\n",
        "# Step 3: Run and show result\n",
        "pi_value = estimate_pi(num_points, radius)\n",
        "print(f\"R = {R}, Radius = {radius}\")\n",
        "print(f\"Number of points = {num_points}\")\n",
        "print(f\"Estimated π = {pi_value}\")\n",
        "\n",
        "\n",
        "\n",
        "# Function to check if inside circle\n",
        "def is_inside_circle(x, y, radius):\n",
        "    return x*x + y*y <= radius*radius\n",
        "\n",
        "# Simulation function\n",
        "def monte_carlo_pi(num_points, radius):\n",
        "    inside = 0\n",
        "    half = num_points // 2\n",
        "\n",
        "    # First half using random.uniform\n",
        "    for _ in range(half):\n",
        "        x = random.uniform(-radius, radius)\n",
        "        y = random.uniform(-radius, radius)\n",
        "        if is_inside_circle(x, y, radius):\n",
        "            inside += 1\n",
        "\n",
        "    # Second half using numpy.random.rand (scaled)\n",
        "    xs = (np.random.rand(num_points - half) * 2 * radius) - radius\n",
        "    ys = (np.random.rand(num_points - half) * 2 * radius) - radius\n",
        "    for x, y in zip(xs, ys):\n",
        "        if is_inside_circle(x, y, radius):\n",
        "            inside += 1\n",
        "\n",
        "    pi_estimate = 4 * inside / num_points\n",
        "    return inside, pi_estimate\n",
        "\n",
        "# Run for 5 different point counts\n",
        "results = []\n",
        "for i in range(1, 6):\n",
        "    total_points = num_points * i\n",
        "    inside, pi_est = monte_carlo_pi(total_points, radius)\n",
        "    error = abs(math.pi - pi_est)\n",
        "    results.append([f\"{-radius} to {radius}\", total_points, inside, pi_est, error])\n",
        "\n",
        "# Print table\n",
        "headers = [\"Range Used\", \"Total Points\", \"Points Inside\", \"Estimated π\", \"Error from math.pi\"]\n",
        "print(tabulate(results, headers=headers, floatfmt=\".6f\"))"
      ]
    }
  ]
}